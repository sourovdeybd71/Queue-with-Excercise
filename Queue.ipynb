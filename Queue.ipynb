{
 "cells": [
  {
   "cell_type": "code",
   "execution_count": 3,
   "id": "bcdc8220",
   "metadata": {},
   "outputs": [],
   "source": [
    "from collections import deque\n",
    "\n",
    "class Queue:\n",
    "    def __init__(self):\n",
    "        self.queue = deque()\n",
    "    \n",
    "    def enqueue(self, val):\n",
    "        self.queue.appendleft(val)\n",
    "    \n",
    "    def dequeue(self):\n",
    "        return self.queue.pop()\n",
    "\n",
    "    def is_empty(self):\n",
    "        return len(self.queue)==0\n",
    "    \n",
    "    def size(self):\n",
    "        return len(self.queue)\n",
    "\n"
   ]
  },
  {
   "cell_type": "code",
   "execution_count": 4,
   "id": "9a07c254",
   "metadata": {},
   "outputs": [],
   "source": [
    "stockdetails = Queue()\n",
    "\n",
    "stockdetails.enqueue({\n",
    "    'company': 'Wall Mart',\n",
    "    'timestamp': '15 apr, 11.01 AM',\n",
    "    'price': 131.10\n",
    "})\n",
    "stockdetails.enqueue({\n",
    "    'company': 'Wall Mart',\n",
    "    'timestamp': '15 apr, 11.02 AM',\n",
    "    'price': 132\n",
    "})\n",
    "stockdetails.enqueue({\n",
    "    'company': 'Wall Mart',\n",
    "    'timestamp': '15 apr, 11.03 AM',\n",
    "    'price': 135\n",
    "})"
   ]
  },
  {
   "cell_type": "code",
   "execution_count": 5,
   "id": "0759ce1d",
   "metadata": {},
   "outputs": [
    {
     "data": {
      "text/plain": [
       "3"
      ]
     },
     "execution_count": 5,
     "metadata": {},
     "output_type": "execute_result"
    }
   ],
   "source": [
    "stockdetails.size()"
   ]
  },
  {
   "cell_type": "code",
   "execution_count": 6,
   "id": "38b4f02b",
   "metadata": {},
   "outputs": [
    {
     "data": {
      "text/plain": [
       "{'company': 'Wall Mart', 'timestamp': '15 apr, 11.01 AM', 'price': 131.1}"
      ]
     },
     "execution_count": 6,
     "metadata": {},
     "output_type": "execute_result"
    }
   ],
   "source": [
    "stockdetails.dequeue()"
   ]
  },
  {
   "cell_type": "code",
   "execution_count": 10,
   "id": "a5b2eebc",
   "metadata": {},
   "outputs": [],
   "source": [
    "#Exercise\n",
    "#Design a food ordering system where your python program will run two threads,\n",
    "\n",
    "##Place Order: This thread will be placing an order and\n",
    "#inserting that into a queue. This thread places new order \n",
    "#every 0.5 second. (hint: use time.sleep(0.5) function)\n",
    "\n",
    "##Serve Order: This thread will server the order. \n",
    "#All you need to do is pop the order out of the queue and print it.\n",
    "#This thread serves an order every 2 seconds. Also start this thread 1 second \n",
    "#after place order thread is started."
   ]
  },
  {
   "cell_type": "code",
   "execution_count": 13,
   "id": "5b547b8d",
   "metadata": {},
   "outputs": [
    {
     "name": "stdout",
     "output_type": "stream",
     "text": [
      "Placing order for: pizza\n",
      "Now serving:  pizza\n",
      "Placing order for: samosa\n",
      "Placing order for: pasta\n",
      "Now serving:  samosa\n",
      "Placing order for: biryani\n",
      "Placing order for: burger\n",
      "Now serving:  pasta\n",
      "Now serving:  biryani\n",
      "Now serving:  burger\n"
     ]
    },
    {
     "name": "stderr",
     "output_type": "stream",
     "text": [
      "Exception in thread Thread-11:\n",
      "Traceback (most recent call last):\n",
      "  File \"G:\\Anaconda\\lib\\threading.py\", line 973, in _bootstrap_inner\n",
      "    self.run()\n",
      "  File \"G:\\Anaconda\\lib\\threading.py\", line 910, in run\n",
      "    self._target(*self._args, **self._kwargs)\n",
      "  File \"C:\\Users\\Acer\\AppData\\Local\\Temp/ipykernel_5096/1135268305.py\", line 16, in serve_orders\n",
      "  File \"C:\\Users\\Acer\\AppData\\Local\\Temp/ipykernel_5096/512129264.py\", line 11, in dequeue\n",
      "IndexError: pop from an empty deque\n"
     ]
    }
   ],
   "source": [
    "import threading\n",
    "import time\n",
    "\n",
    "food_order_queue = Queue()\n",
    "\n",
    "def place_orders(orders):\n",
    "    for order in orders:\n",
    "        print(\"Placing order for:\",order)\n",
    "        food_order_queue.enqueue(order)\n",
    "        time.sleep(1)\n",
    "\n",
    "\n",
    "def serve_orders():\n",
    "    time.sleep(1)\n",
    "    while True:\n",
    "        order = food_order_queue.dequeue()\n",
    "        print(\"Now serving: \",order)\n",
    "        time.sleep(.5)\n",
    "\n",
    "if __name__ == '__main__':\n",
    "    orders = ['pizza','samosa','pasta','biryani','burger']\n",
    "    t1 = threading.Thread(target=place_orders, args=(orders,))\n",
    "    t2 = threading.Thread(target=serve_orders)\n",
    "\n",
    "    t1.start()\n",
    "    t2.start()"
   ]
  },
  {
   "cell_type": "code",
   "execution_count": null,
   "id": "c01699a1",
   "metadata": {},
   "outputs": [],
   "source": []
  }
 ],
 "metadata": {
  "kernelspec": {
   "display_name": "Python 3 (ipykernel)",
   "language": "python",
   "name": "python3"
  },
  "language_info": {
   "codemirror_mode": {
    "name": "ipython",
    "version": 3
   },
   "file_extension": ".py",
   "mimetype": "text/x-python",
   "name": "python",
   "nbconvert_exporter": "python",
   "pygments_lexer": "ipython3",
   "version": "3.9.7"
  }
 },
 "nbformat": 4,
 "nbformat_minor": 5
}
